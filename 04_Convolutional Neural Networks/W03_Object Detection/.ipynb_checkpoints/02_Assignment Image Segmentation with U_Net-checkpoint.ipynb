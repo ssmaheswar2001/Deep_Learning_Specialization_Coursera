{
 "cells": [
  {
   "cell_type": "markdown",
   "id": "24b83b6f",
   "metadata": {},
   "source": [
    "# Image Segmentation with U-Net\n",
    "- We'll be building our own U-Net, a type of CNN designed for quick, precise image segmentation, and using it to predict a label for every pixel in an image.\n",
    "- This type of image classification is called semantic image segmentation. It's similar to object detection in that both ask question 'What objects are in the image and where in the image are those objects located?' but where object detection labels object with bounding boxes that may incldue pixels that aren't part of the object, semantic image segmentation allows us to predict a precise mask for each object in the image by labeling each pixel in the image with its corresponding class. \n",
    "- As we might imagine, region-specific labeling is a pretty crucial consideration for self-driving cars, which require a pixel-prefect understanding of their environment so they can change lanes and avoid other cars, or any number of traffic obstaces that can put people's lives in danger.\n",
    "- We'll be able to :\n",
    "    - Build our onw U-Net\n",
    "    - Explain the difference b/w a regular CNN and a U-Net\n",
    "    - Implement semantic image segmentation on the CARLA self-driving car dataset\n",
    "    - Apply sparse categorical crossentropy for pixelwise prediction"
   ]
  },
  {
   "cell_type": "markdown",
   "id": "8555995c",
   "metadata": {},
   "source": [
    "# 1. Packages"
   ]
  },
  {
   "cell_type": "code",
   "execution_count": 1,
   "id": "2aba1816",
   "metadata": {},
   "outputs": [],
   "source": [
    "import tensorflow as tf\n",
    "import numpy as np\n",
    "\n",
    "from tensorflow.keras.layers import Input\n",
    "from tensorflow.keras.layers import Conv2D\n",
    "from tensorflow.keras.layers import MaxPooling2D\n",
    "from tensorflow.keras.layers import Dropout\n",
    "from tensorflow.keras.layers import Conv2DTranspose\n",
    "from tensorflow.keras.layers import concatenate"
   ]
  },
  {
   "cell_type": "markdown",
   "id": "fc3ff5fd",
   "metadata": {},
   "source": [
    "# 2. Load and Split the Data"
   ]
  },
  {
   "cell_type": "code",
   "execution_count": 2,
   "id": "3a12a343",
   "metadata": {},
   "outputs": [],
   "source": [
    "import os\n",
    "import numpy as no # linear algebra\n",
    "import pandas as pd\n",
    "\n",
    "import imageio\n",
    "import matplotlib.pyplot as plt"
   ]
  },
  {
   "cell_type": "code",
   "execution_count": null,
   "id": "7fa7c4b8",
   "metadata": {},
   "outputs": [],
   "source": [
    "path = ''\n",
    "image_path = os.path.join(path, )"
   ]
  }
 ],
 "metadata": {
  "kernelspec": {
   "display_name": "Python 3 (ipykernel)",
   "language": "python",
   "name": "python3"
  },
  "language_info": {
   "codemirror_mode": {
    "name": "ipython",
    "version": 3
   },
   "file_extension": ".py",
   "mimetype": "text/x-python",
   "name": "python",
   "nbconvert_exporter": "python",
   "pygments_lexer": "ipython3",
   "version": "3.11.5"
  }
 },
 "nbformat": 4,
 "nbformat_minor": 5
}
