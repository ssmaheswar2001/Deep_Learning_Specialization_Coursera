{
 "cells": [
  {
   "cell_type": "markdown",
   "id": "846668a0",
   "metadata": {},
   "source": [
    "# Neural Machine Translation\n",
    "- We will build a Neural Machine Translation (NMT) model to translate human-readable dates ('25th of June, 2009') into machine-readable dates ('2009-06-25').\n",
    "- We will do this using an attention model, one of the most sophisticated sequence-to-sequence models."
   ]
  },
  {
   "cell_type": "markdown",
   "id": "04f93344",
   "metadata": {},
   "source": [
    "# Packages"
   ]
  },
  {
   "cell_type": "code",
   "execution_count": 8,
   "id": "76b95130",
   "metadata": {},
   "outputs": [],
   "source": [
    "from tensorflow.keras.layers import Bidirectional, Concatenate, Permute, Dot, Input, LSTM, Multiply\n",
    "from tensorflow.keras.layers import RepeatVector, Dense, Activation, Lambda\n",
    "from tensorflow.keras.optimizers import Adam\n",
    "from tensorflow.keras.utils import to_categorical\n",
    "from tensorflow.keras.models import load_model, Model\n",
    "import tensorflow.keras.backend as K\n",
    "import tensorflow as tf\n",
    "import numpy as np\n",
    "\n",
    "from faker import Faker\n",
    "import random\n",
    "from tqdm import tqdm\n",
    "from babel.dates import format_date\n",
    "import matplotlib.pyplot as plt"
   ]
  },
  {
   "cell_type": "markdown",
   "id": "fdbe37ff",
   "metadata": {},
   "source": [
    "# 1. Translating Human Readable Dates into Machine Readable Dates\n",
    "- The model we will build here could be used to translated from one language to another, such as translating from English to Hindi.\n",
    "- However, language translation requires massive datasets and usually takes days to training on GPUs.\n",
    "- To give us a place to experiment with these models without using massive datasets, we will perform a simpler 'date translation' task.\n",
    "- The network will input a date written in a varitey of possible formats (e.g : 'the 29th of August 1958', 03/30/1968), '24 JUNE 1987')\n",
    "- The network will translate them into standardized, machine readable dates (e.g : \"1958-08-29\", \"1968-03-30\", \"1987-06-24\").\n",
    "- We will have the network learn to output dates in the common machine-readable format YYYY-MM-DD."
   ]
  },
  {
   "cell_type": "code",
   "execution_count": null,
   "id": "42403196",
   "metadata": {},
   "outputs": [],
   "source": []
  }
 ],
 "metadata": {
  "kernelspec": {
   "display_name": "Python 3 (ipykernel)",
   "language": "python",
   "name": "python3"
  },
  "language_info": {
   "codemirror_mode": {
    "name": "ipython",
    "version": 3
   },
   "file_extension": ".py",
   "mimetype": "text/x-python",
   "name": "python",
   "nbconvert_exporter": "python",
   "pygments_lexer": "ipython3",
   "version": "3.11.5"
  }
 },
 "nbformat": 4,
 "nbformat_minor": 5
}
