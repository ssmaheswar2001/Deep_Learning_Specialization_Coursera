{
 "cells": [
  {
   "cell_type": "markdown",
   "id": "e38de3be",
   "metadata": {},
   "source": [
    "# Improvise a Jazz Solo with an LSTM Network\n",
    "- We'll implement a model that uses a LSTM to generate music. At the end, we'll even be able to listen to our own music\n",
    "- We'll be able to :\n",
    "    - Apply an LSTM to a musci generation task\n",
    "    - Generate our own jazz musci with deep learning\n",
    "    - Use the flexible Functional API to create complex models."
   ]
  },
  {
   "cell_type": "code",
   "execution_count": null,
   "id": "9cd17a93",
   "metadata": {},
   "outputs": [],
   "source": []
  }
 ],
 "metadata": {
  "kernelspec": {
   "display_name": "Python 3 (ipykernel)",
   "language": "python",
   "name": "python3"
  },
  "language_info": {
   "codemirror_mode": {
    "name": "ipython",
    "version": 3
   },
   "file_extension": ".py",
   "mimetype": "text/x-python",
   "name": "python",
   "nbconvert_exporter": "python",
   "pygments_lexer": "ipython3",
   "version": "3.11.5"
  }
 },
 "nbformat": 4,
 "nbformat_minor": 5
}
